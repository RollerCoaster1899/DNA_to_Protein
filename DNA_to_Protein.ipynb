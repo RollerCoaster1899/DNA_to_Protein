{
 "cells": [
  {
   "cell_type": "markdown",
   "id": "0d771430-2521-499b-a94d-d03a92055a7d",
   "metadata": {},
   "source": [
    "# DNA to Protein"
   ]
  },
  {
   "cell_type": "code",
   "execution_count": 2,
   "id": "ebcac0e5-af05-4342-90cd-6ef604cb8042",
   "metadata": {},
   "outputs": [],
   "source": [
    "def dna_to_protein(dna_sequence):\n",
    "    codon_table = {\n",
    "        'TTT': 'F', 'TTC': 'F', 'TTA': 'L', 'TTG': 'L',\n",
    "        'TCT': 'S', 'TCC': 'S', 'TCA': 'S', 'TCG': 'S',\n",
    "        'TAT': 'Y', 'TAC': 'Y', 'TAA': '*', 'TAG': '*',\n",
    "        'TGT': 'C', 'TGC': 'C', 'TGA': '*', 'TGG': 'W',\n",
    "        'CTT': 'L', 'CTC': 'L', 'CTA': 'L', 'CTG': 'L',\n",
    "        'CCT': 'P', 'CCC': 'P', 'CCA': 'P', 'CCG': 'P',\n",
    "        'CAT': 'H', 'CAC': 'H', 'CAA': 'Q', 'CAG': 'Q',\n",
    "        'CGT': 'R', 'CGC': 'R', 'CGA': 'R', 'CGG': 'R',\n",
    "        'ATT': 'I', 'ATC': 'I', 'ATA': 'I', 'ATG': 'M',\n",
    "        'ACT': 'T', 'ACC': 'T', 'ACA': 'T', 'ACG': 'T',\n",
    "        'AAT': 'N', 'AAC': 'N', 'AAA': 'K', 'AAG': 'K',\n",
    "        'AGT': 'S', 'AGC': 'S', 'AGA': 'R', 'AGG': 'R',\n",
    "        'GTT': 'V', 'GTC': 'V', 'GTA': 'V', 'GTG': 'V',\n",
    "        'GCT': 'A', 'GCC': 'A', 'GCA': 'A', 'GCG': 'A',\n",
    "        'GAT': 'D', 'GAC': 'D', 'GAA': 'E', 'GAG': 'E',\n",
    "        'GGT': 'G', 'GGC': 'G', 'GGA': 'G', 'GGG': 'G'\n",
    "    }\n",
    "  \n",
    "    protein_sequence = \"\"\n",
    "    for i in range(0, len(dna_sequence), 3):\n",
    "        codon = dna_sequence[i:i+3]\n",
    "        amino_acid = codon_table.get(codon, '')\n",
    "        protein_sequence += amino_acid\n",
    "\n",
    "    return protein_sequence"
   ]
  },
  {
   "cell_type": "code",
   "execution_count": 3,
   "id": "39798744-10b4-437e-9fd4-c7f2f01faa7a",
   "metadata": {},
   "outputs": [
    {
     "name": "stdout",
     "output_type": "stream",
     "text": [
      "MLT*L\n"
     ]
    }
   ],
   "source": [
    "# Example usage\n",
    "dna_sequence = \"ATGTTGACGTAGCTAG\"\n",
    "protein_sequence = dna_to_protein(dna_sequence)\n",
    "print(protein_sequence)"
   ]
  },
  {
   "cell_type": "markdown",
   "id": "85e5fca3-0974-4827-8744-3a26a1255e9c",
   "metadata": {},
   "source": [
    "# DNA to Protein including mutations"
   ]
  },
  {
   "cell_type": "code",
   "execution_count": 6,
   "id": "b6217db3-2317-4b49-ba07-af2ebdf365f7",
   "metadata": {},
   "outputs": [],
   "source": [
    "import random\n",
    "import matplotlib.pyplot as plt\n",
    "\n",
    "# DNA to Protein converter\n",
    "def dna_to_protein(dna):\n",
    "    protein = ''\n",
    "    codon_table = {\n",
    "        'TTT': 'F', 'TTC': 'F',\n",
    "        'TTA': 'L', 'TTG': 'L', 'CTT': 'L', 'CTC': 'L', 'CTA': 'L', 'CTG': 'L',\n",
    "        'ATT': 'I', 'ATC': 'I', 'ATA': 'I',\n",
    "        'ATG': 'M',\n",
    "        'GTT': 'V', 'GTC': 'V', 'GTA': 'V', 'GTG': 'V',\n",
    "        'TCT': 'S', 'TCC': 'S', 'TCA': 'S', 'TCG': 'S', 'AGT': 'S', 'AGC': 'S',\n",
    "        'CCT': 'P', 'CCC': 'P', 'CCA': 'P', 'CCG': 'P',\n",
    "        'ACT': 'T', 'ACC': 'T', 'ACA': 'T', 'ACG': 'T',\n",
    "        'GCT': 'A', 'GCC': 'A', 'GCA': 'A', 'GCG': 'A',\n",
    "        'TAT': 'Y', 'TAC': 'Y',\n",
    "        'TAA': '_', 'TAG': '_', 'TGA': '_',\n",
    "        'CAT': 'H', 'CAC': 'H',\n",
    "        'CAA': 'Q', 'CAG': 'Q',\n",
    "        'AAT': 'N', 'AAC': 'N',\n",
    "        'AAA': 'K', 'AAG': 'K',\n",
    "        'GAT': 'D', 'GAC': 'D',\n",
    "        'GAA': 'E', 'GAG': 'E',\n",
    "        'TGT': 'C', 'TGC': 'C',\n",
    "        'TGG': 'W',\n",
    "        'CGT': 'R', 'CGC': 'R', 'CGA': 'R', 'CGG': 'R', 'AGA': 'R', 'AGG': 'R',\n",
    "        'GGT': 'G', 'GGC': 'G', 'GGA': 'G', 'GGG': 'G'\n",
    "    }\n",
    "\n",
    "    for i in range(0, len(dna), 3):\n",
    "        codon = dna[i:i+3]\n",
    "        if codon in codon_table:\n",
    "            protein += codon_table[codon]\n",
    "        else:\n",
    "            protein += '-'\n",
    "\n",
    "    return protein\n",
    "\n",
    "\n",
    "# Simulate DNA mutation with given mutation rate and generations\n",
    "def simulate(dna, mutation_rate, generations):\n",
    "    fitness_scores = []\n",
    "    mutated_dnas = []\n",
    "\n",
    "    for _ in range(generations):\n",
    "        fitness_scores.append(len(dna) - dna.count('-'))\n",
    "        mutated_dna = ''\n",
    "        for base in dna:\n",
    "            # Mutate the DNA base with the given probability\n",
    "            if random.random() < mutation_rate:\n",
    "                mutated_dna += random.choice('ATCG')\n",
    "            else:\n",
    "                mutated_dna += base\n",
    "        mutated_dnas.append(mutated_dna)\n",
    "        dna = mutated_dna\n",
    "\n",
    "    return fitness_scores, mutated_dnas\n",
    "\n",
    "\n",
    "# Plot fitness scores over generations\n",
    "def plot_fitness_scores(fitness_scores):\n",
    "    plt.plot(fitness_scores)\n",
    "    plt.xlabel('Generation')\n",
    "    plt.ylabel('Fitness Score')\n",
    "    plt.title('Fitness Scores over Generations')\n",
    "    plt.show()"
   ]
  },
  {
   "cell_type": "code",
   "execution_count": 7,
   "id": "6ab8f7cd-9917-4793-983e-0eae4bd25b7d",
   "metadata": {},
   "outputs": [
    {
     "name": "stdout",
     "output_type": "stream",
     "text": [
      "Original Protein: MLSS_KGFDSTAMLQ\n"
     ]
    },
    {
     "data": {
      "image/png": "[encoded data removed]",
      "text/plain": [
       "<Figure size 640x480 with 1 Axes>"
      ]
     },
     "metadata": {},
     "output_type": "display_data"
    },
    {
     "name": "stdout",
     "output_type": "stream",
     "text": [
      "Final Protein: SSQGPISLTDKLELP\n"
     ]
    }
   ],
   "source": [
    "# Example usage\n",
    "dna_sequence = 'ATGTTGTCCTCATAAAAAGGCTTTGACAGTACAGCTATGTTGCAA'\n",
    "\n",
    "protein_sequence = dna_to_protein(dna_sequence)\n",
    "print('Original Protein:', protein_sequence)\n",
    "\n",
    "mutation_rate = 0.1\n",
    "generations = 100\n",
    "\n",
    "fitness_scores, mutated_dnas = simulate(dna_sequence, mutation_rate, generations)\n",
    "\n",
    "plot_fitness_scores(fitness_scores)\n",
    "\n",
    "final_protein_sequence = dna_to_protein(mutated_dnas[-1])\n",
    "print('Final Protein:', final_protein_sequence)"
   ]
  }
 ],
 "metadata": {
  "kernelspec": {
   "display_name": "Python 3 (ipykernel)",
   "language": "python",
   "name": "python3"
  },
  "language_info": {
   "codemirror_mode": {
    "name": "ipython",
    "version": 3
   },
   "file_extension": ".py",
   "mimetype": "text/x-python",
   "name": "python",
   "nbconvert_exporter": "python",
   "pygments_lexer": "ipython3",
   "version": "3.10.9"
  }
 },
 "nbformat": 4,
 "nbformat_minor": 5
}
